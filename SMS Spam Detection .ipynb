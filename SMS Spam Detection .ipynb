{
 "cells": [
  {
   "cell_type": "markdown",
   "id": "92b8d3e8",
   "metadata": {},
   "source": [
    "# SMS Spam Detection using TensorFlow"
   ]
  },
  {
   "cell_type": "code",
   "execution_count": 1,
   "id": "814a61ae",
   "metadata": {},
   "outputs": [],
   "source": [
    "#Importing necessary libraries\n",
    "import numpy as np\n",
    "import pandas as pd\n",
    "import matplotlib.pyplot as plt\n",
    "import seaborn as sns\n",
    "import tensorflow as tf\n",
    "import keras \n",
    "from sklearn.model_selection import train_test_split\n",
    "from sklearn.metrics import classification_report,accuracy_score, precision_score\n",
    "import warnings \n",
    "warnings.filterwarnings(\"ignore\")"
   ]
  },
  {
   "cell_type": "code",
   "execution_count": 2,
   "id": "77b0f40c",
   "metadata": {},
   "outputs": [],
   "source": [
    "#loading the dataset \n",
    "#loading dataset\n",
    "data = pd.read_csv(\"spam.csv\", encoding='latin-1')"
   ]
  },
  {
   "cell_type": "code",
   "execution_count": 3,
   "id": "b7d8f398",
   "metadata": {},
   "outputs": [
    {
     "data": {
      "text/html": [
       "<div>\n",
       "<style scoped>\n",
       "    .dataframe tbody tr th:only-of-type {\n",
       "        vertical-align: middle;\n",
       "    }\n",
       "\n",
       "    .dataframe tbody tr th {\n",
       "        vertical-align: top;\n",
       "    }\n",
       "\n",
       "    .dataframe thead th {\n",
       "        text-align: right;\n",
       "    }\n",
       "</style>\n",
       "<table border=\"1\" class=\"dataframe\">\n",
       "  <thead>\n",
       "    <tr style=\"text-align: right;\">\n",
       "      <th></th>\n",
       "      <th>v1</th>\n",
       "      <th>v2</th>\n",
       "      <th>Unnamed: 2</th>\n",
       "      <th>Unnamed: 3</th>\n",
       "      <th>Unnamed: 4</th>\n",
       "    </tr>\n",
       "  </thead>\n",
       "  <tbody>\n",
       "    <tr>\n",
       "      <th>0</th>\n",
       "      <td>ham</td>\n",
       "      <td>Go until jurong point, crazy.. Available only ...</td>\n",
       "      <td>NaN</td>\n",
       "      <td>NaN</td>\n",
       "      <td>NaN</td>\n",
       "    </tr>\n",
       "    <tr>\n",
       "      <th>1</th>\n",
       "      <td>ham</td>\n",
       "      <td>Ok lar... Joking wif u oni...</td>\n",
       "      <td>NaN</td>\n",
       "      <td>NaN</td>\n",
       "      <td>NaN</td>\n",
       "    </tr>\n",
       "    <tr>\n",
       "      <th>2</th>\n",
       "      <td>spam</td>\n",
       "      <td>Free entry in 2 a wkly comp to win FA Cup fina...</td>\n",
       "      <td>NaN</td>\n",
       "      <td>NaN</td>\n",
       "      <td>NaN</td>\n",
       "    </tr>\n",
       "    <tr>\n",
       "      <th>3</th>\n",
       "      <td>ham</td>\n",
       "      <td>U dun say so early hor... U c already then say...</td>\n",
       "      <td>NaN</td>\n",
       "      <td>NaN</td>\n",
       "      <td>NaN</td>\n",
       "    </tr>\n",
       "    <tr>\n",
       "      <th>4</th>\n",
       "      <td>ham</td>\n",
       "      <td>Nah I don't think he goes to usf, he lives aro...</td>\n",
       "      <td>NaN</td>\n",
       "      <td>NaN</td>\n",
       "      <td>NaN</td>\n",
       "    </tr>\n",
       "  </tbody>\n",
       "</table>\n",
       "</div>"
      ],
      "text/plain": [
       "     v1                                                 v2 Unnamed: 2  \\\n",
       "0   ham  Go until jurong point, crazy.. Available only ...        NaN   \n",
       "1   ham                      Ok lar... Joking wif u oni...        NaN   \n",
       "2  spam  Free entry in 2 a wkly comp to win FA Cup fina...        NaN   \n",
       "3   ham  U dun say so early hor... U c already then say...        NaN   \n",
       "4   ham  Nah I don't think he goes to usf, he lives aro...        NaN   \n",
       "\n",
       "  Unnamed: 3 Unnamed: 4  \n",
       "0        NaN        NaN  \n",
       "1        NaN        NaN  \n",
       "2        NaN        NaN  \n",
       "3        NaN        NaN  \n",
       "4        NaN        NaN  "
      ]
     },
     "execution_count": 3,
     "metadata": {},
     "output_type": "execute_result"
    }
   ],
   "source": [
    "#first 5 rows \n",
    "data.head()"
   ]
  },
  {
   "cell_type": "code",
   "execution_count": 4,
   "id": "51625e75",
   "metadata": {},
   "outputs": [
    {
     "data": {
      "text/plain": [
       "(5572, 5)"
      ]
     },
     "execution_count": 4,
     "metadata": {},
     "output_type": "execute_result"
    }
   ],
   "source": [
    "#size of the dataset\n",
    "data.shape"
   ]
  },
  {
   "cell_type": "code",
   "execution_count": 5,
   "id": "e2582972",
   "metadata": {},
   "outputs": [
    {
     "name": "stdout",
     "output_type": "stream",
     "text": [
      "<class 'pandas.core.frame.DataFrame'>\n",
      "RangeIndex: 5572 entries, 0 to 5571\n",
      "Data columns (total 5 columns):\n",
      " #   Column      Non-Null Count  Dtype \n",
      "---  ------      --------------  ----- \n",
      " 0   v1          5572 non-null   object\n",
      " 1   v2          5572 non-null   object\n",
      " 2   Unnamed: 2  50 non-null     object\n",
      " 3   Unnamed: 3  12 non-null     object\n",
      " 4   Unnamed: 4  6 non-null      object\n",
      "dtypes: object(5)\n",
      "memory usage: 217.8+ KB\n"
     ]
    }
   ],
   "source": [
    "#summary of the dataset\n",
    "data.info()"
   ]
  },
  {
   "cell_type": "code",
   "execution_count": 6,
   "id": "70461e72",
   "metadata": {},
   "outputs": [
    {
     "data": {
      "text/plain": [
       "v1               0\n",
       "v2               0\n",
       "Unnamed: 2    5522\n",
       "Unnamed: 3    5560\n",
       "Unnamed: 4    5566\n",
       "dtype: int64"
      ]
     },
     "execution_count": 6,
     "metadata": {},
     "output_type": "execute_result"
    }
   ],
   "source": [
    "#checking null values\n",
    "data.isnull().sum()"
   ]
  },
  {
   "cell_type": "code",
   "execution_count": 7,
   "id": "60ff1bc9",
   "metadata": {},
   "outputs": [],
   "source": [
    "# Drop the 3 unnamed columns with null values. \n",
    "data.drop(['Unnamed: 2', 'Unnamed: 3', 'Unnamed: 4'], axis=1, inplace=True)"
   ]
  },
  {
   "cell_type": "code",
   "execution_count": 8,
   "id": "710c6909",
   "metadata": {},
   "outputs": [],
   "source": [
    "#rename columns v1 to 'label' and v2 to 'Text'\n",
    "data = data.rename(columns = {'v1': 'Label','v2': 'Text'})"
   ]
  },
  {
   "cell_type": "code",
   "execution_count": 9,
   "id": "648f9b35",
   "metadata": {},
   "outputs": [],
   "source": [
    "#encode the target variable as it is in string form\n",
    "data['label_enc'] = data['Label'].map({'ham' : 0, 'spam' : 1})"
   ]
  },
  {
   "cell_type": "code",
   "execution_count": 10,
   "id": "0b21d80c",
   "metadata": {},
   "outputs": [
    {
     "data": {
      "text/html": [
       "<div>\n",
       "<style scoped>\n",
       "    .dataframe tbody tr th:only-of-type {\n",
       "        vertical-align: middle;\n",
       "    }\n",
       "\n",
       "    .dataframe tbody tr th {\n",
       "        vertical-align: top;\n",
       "    }\n",
       "\n",
       "    .dataframe thead th {\n",
       "        text-align: right;\n",
       "    }\n",
       "</style>\n",
       "<table border=\"1\" class=\"dataframe\">\n",
       "  <thead>\n",
       "    <tr style=\"text-align: right;\">\n",
       "      <th></th>\n",
       "      <th>Label</th>\n",
       "      <th>Text</th>\n",
       "      <th>label_enc</th>\n",
       "    </tr>\n",
       "  </thead>\n",
       "  <tbody>\n",
       "    <tr>\n",
       "      <th>0</th>\n",
       "      <td>ham</td>\n",
       "      <td>Go until jurong point, crazy.. Available only ...</td>\n",
       "      <td>0</td>\n",
       "    </tr>\n",
       "    <tr>\n",
       "      <th>1</th>\n",
       "      <td>ham</td>\n",
       "      <td>Ok lar... Joking wif u oni...</td>\n",
       "      <td>0</td>\n",
       "    </tr>\n",
       "    <tr>\n",
       "      <th>2</th>\n",
       "      <td>spam</td>\n",
       "      <td>Free entry in 2 a wkly comp to win FA Cup fina...</td>\n",
       "      <td>1</td>\n",
       "    </tr>\n",
       "    <tr>\n",
       "      <th>3</th>\n",
       "      <td>ham</td>\n",
       "      <td>U dun say so early hor... U c already then say...</td>\n",
       "      <td>0</td>\n",
       "    </tr>\n",
       "    <tr>\n",
       "      <th>4</th>\n",
       "      <td>ham</td>\n",
       "      <td>Nah I don't think he goes to usf, he lives aro...</td>\n",
       "      <td>0</td>\n",
       "    </tr>\n",
       "  </tbody>\n",
       "</table>\n",
       "</div>"
      ],
      "text/plain": [
       "  Label                                               Text  label_enc\n",
       "0   ham  Go until jurong point, crazy.. Available only ...          0\n",
       "1   ham                      Ok lar... Joking wif u oni...          0\n",
       "2  spam  Free entry in 2 a wkly comp to win FA Cup fina...          1\n",
       "3   ham  U dun say so early hor... U c already then say...          0\n",
       "4   ham  Nah I don't think he goes to usf, he lives aro...          0"
      ]
     },
     "execution_count": 10,
     "metadata": {},
     "output_type": "execute_result"
    }
   ],
   "source": [
    "data.head()"
   ]
  },
  {
   "cell_type": "code",
   "execution_count": 11,
   "id": "caec32e4",
   "metadata": {},
   "outputs": [
    {
     "data": {
      "text/plain": [
       "<AxesSubplot:xlabel='Label', ylabel='count'>"
      ]
     },
     "execution_count": 11,
     "metadata": {},
     "output_type": "execute_result"
    },
    {
     "data": {
      "image/png": "[encoded data removed]",
      "text/plain": [
       "<Figure size 640x480 with 1 Axes>"
      ]
     },
     "metadata": {},
     "output_type": "display_data"
    }
   ],
   "source": [
    "#EDA\n",
    "#visualizing the target column\n",
    "sns.countplot(data['Label'])"
   ]
  },
  {
   "cell_type": "code",
   "execution_count": null,
   "id": "7026b7c6",
   "metadata": {},
   "outputs": [],
   "source": [
    "# from the above plot, we can see that 'ham' data is comparatively higher than 'spam' data. \n",
    "# Since we are going to use embeddings in our deep learning model, we need not balance the data"
   ]
  },
  {
   "cell_type": "code",
   "execution_count": 12,
   "id": "0e009f51",
   "metadata": {},
   "outputs": [
    {
     "name": "stdout",
     "output_type": "stream",
     "text": [
      "15\n"
     ]
    }
   ],
   "source": [
    "# Find average number of words in all the sentences in SMS data\n",
    "avg_words_len=round(sum([len(i.split()) for i in data['Text']])/len(data['Text']))\n",
    "print(avg_words_len)"
   ]
  },
  {
   "cell_type": "code",
   "execution_count": 13,
   "id": "ca132043",
   "metadata": {},
   "outputs": [
    {
     "name": "stdout",
     "output_type": "stream",
     "text": [
      "15585\n"
     ]
    }
   ],
   "source": [
    "# Finding total no of unique words in corpus\n",
    "s = set()\n",
    "for sent in data['Text']:\n",
    "    for word in sent.split():\n",
    "        s.add(word)\n",
    "\n",
    "total_words_length =len(s)\n",
    "print(total_words_length)"
   ]
  },
  {
   "cell_type": "code",
   "execution_count": 14,
   "id": "247b969d",
   "metadata": {},
   "outputs": [],
   "source": [
    "#Train test split\n",
    "X = data['Text']\n",
    "Y = data['label_enc']\n",
    "\n",
    "X_train, X_test, y_train, y_test = train_test_split(X,Y, test_size=0.2, random_state=42)"
   ]
  },
  {
   "cell_type": "code",
   "execution_count": 15,
   "id": "8ed9264a",
   "metadata": {},
   "outputs": [
    {
     "data": {
      "text/plain": [
       "((4457,), (4457,), (1115,), (1115,))"
      ]
     },
     "execution_count": 15,
     "metadata": {},
     "output_type": "execute_result"
    }
   ],
   "source": [
    "X_train.shape, y_train.shape, X_test.shape, y_test.shape"
   ]
  },
  {
   "cell_type": "code",
   "execution_count": null,
   "id": "dfacf7c9",
   "metadata": {},
   "outputs": [],
   "source": [
    "#Model Training "
   ]
  },
  {
   "cell_type": "code",
   "execution_count": null,
   "id": "70211641",
   "metadata": {},
   "outputs": [],
   "source": [
    "#Model 1: Creating custom Text vectorization and embedding layers:"
   ]
  },
  {
   "cell_type": "code",
   "execution_count": null,
   "id": "5cd37871",
   "metadata": {},
   "outputs": [],
   "source": [
    "#Text vectorization is the process of converting text into a numerical representation\n",
    "#A word embedding is a learned representation of text in which words with related meanings have similar representations"
   ]
  },
  {
   "cell_type": "code",
   "execution_count": 16,
   "id": "62e9a34d",
   "metadata": {},
   "outputs": [],
   "source": [
    "from keras.layers import TextVectorization\n",
    "\n",
    "MaxTokens = total_words_length\n",
    "OutputLen = avg_words_len\n",
    "\n",
    "text_vec = TextVectorization(max_tokens = MaxTokens, standardize='lower_and_strip_punctuation', output_mode='int', output_sequence_length=OutputLen)\n",
    "text_vec.adapt(X_train)"
   ]
  },
  {
   "cell_type": "code",
   "execution_count": 17,
   "id": "55e7a472",
   "metadata": {},
   "outputs": [],
   "source": [
    "embedding_layer = keras.layers.Embedding(input_dim=MaxTokens,output_dim=128,embeddings_initializer='uniform',input_length=OutputLen)"
   ]
  },
  {
   "cell_type": "code",
   "execution_count": 18,
   "id": "dd51dcb0",
   "metadata": {},
   "outputs": [],
   "source": [
    "input_layer = keras.layers.Input(shape=(1,), dtype=tf.string)\n",
    "vec_layer = text_vec(input_layer)\n",
    "embedding_layer_model = embedding_layer(vec_layer)\n",
    "x = keras.layers.GlobalAveragePooling1D()(embedding_layer_model)\n",
    "x = keras.layers.Flatten()(x)\n",
    "x = keras.layers.Dense(32, activation='relu')(x)\n",
    "output_layer = keras.layers.Dense(1, activation='sigmoid')(x)\n",
    "\n",
    "model_1 = keras.Model(input_layer, output_layer)\n",
    " \n",
    "model_1.compile(optimizer='adam', loss=keras.losses.BinaryCrossentropy(label_smoothing=0.5), metrics=['accuracy'])"
   ]
  },
  {
   "cell_type": "code",
   "execution_count": 19,
   "id": "ef218d87",
   "metadata": {},
   "outputs": [
    {
     "name": "stdout",
     "output_type": "stream",
     "text": [
      "Model: \"model\"\n",
      "_________________________________________________________________\n",
      " Layer (type)                Output Shape              Param #   \n",
      "=================================================================\n",
      " input_1 (InputLayer)        [(None, 1)]               0         \n",
      "                                                                 \n",
      " text_vectorization (TextVe  (None, 15)                0         \n",
      " ctorization)                                                    \n",
      "                                                                 \n",
      " embedding (Embedding)       (None, 15, 128)           1994880   \n",
      "                                                                 \n",
      " global_average_pooling1d (  (None, 128)               0         \n",
      " GlobalAveragePooling1D)                                         \n",
      "                                                                 \n",
      " flatten (Flatten)           (None, 128)               0         \n",
      "                                                                 \n",
      " dense (Dense)               (None, 32)                4128      \n",
      "                                                                 \n",
      " dense_1 (Dense)             (None, 1)                 33        \n",
      "                                                                 \n",
      "=================================================================\n",
      "Total params: 1999041 (7.63 MB)\n",
      "Trainable params: 1999041 (7.63 MB)\n",
      "Non-trainable params: 0 (0.00 Byte)\n",
      "_________________________________________________________________\n"
     ]
    }
   ],
   "source": [
    "model_1.summary()"
   ]
  },
  {
   "cell_type": "code",
   "execution_count": 20,
   "id": "90e39e0f",
   "metadata": {},
   "outputs": [
    {
     "name": "stdout",
     "output_type": "stream",
     "text": [
      "Epoch 1/5\n",
      "140/140 [==============================] - 5s 31ms/step - loss: 0.6041 - accuracy: 0.9116 - val_loss: 0.5770 - val_accuracy: 0.9749\n",
      "Epoch 2/5\n",
      "140/140 [==============================] - 4s 30ms/step - loss: 0.5701 - accuracy: 0.9865 - val_loss: 0.5733 - val_accuracy: 0.9812\n",
      "Epoch 3/5\n",
      "140/140 [==============================] - 4s 29ms/step - loss: 0.5657 - accuracy: 0.9960 - val_loss: 0.5725 - val_accuracy: 0.9821\n",
      "Epoch 4/5\n",
      "140/140 [==============================] - 4s 26ms/step - loss: 0.5642 - accuracy: 0.9980 - val_loss: 0.5722 - val_accuracy: 0.9848\n",
      "Epoch 5/5\n",
      "140/140 [==============================] - 4s 30ms/step - loss: 0.5634 - accuracy: 0.9991 - val_loss: 0.5724 - val_accuracy: 0.9803\n"
     ]
    }
   ],
   "source": [
    "history_1 = model_1.fit(X_train, y_train, epochs=5, validation_data=(X_test, y_test), validation_steps=int(0.2*len(X_test)))"
   ]
  },
  {
   "cell_type": "code",
   "execution_count": 21,
   "id": "8fb12afd",
   "metadata": {},
   "outputs": [
    {
     "data": {
      "text/plain": [
       "<AxesSubplot:>"
      ]
     },
     "execution_count": 21,
     "metadata": {},
     "output_type": "execute_result"
    },
    {
     "data": {
      "image/png": "[encoded data removed]",
      "text/plain": [
       "<Figure size 640x480 with 1 Axes>"
      ]
     },
     "metadata": {},
     "output_type": "display_data"
    }
   ],
   "source": [
    "pd.DataFrame(history_1.history).plot()"
   ]
  },
  {
   "cell_type": "code",
   "execution_count": 22,
   "id": "ee6d5ec7",
   "metadata": {},
   "outputs": [
    {
     "name": "stdout",
     "output_type": "stream",
     "text": [
      "175/175 [==============================] - 0s 2ms/step\n",
      "Accuracy:  0.9956927494615937\n",
      "Precision:  0.9986206896551724\n"
     ]
    }
   ],
   "source": [
    "y_preds = np.round(model_1.predict(X))\n",
    "accuracy = accuracy_score(Y, y_preds)\n",
    "precision = precision_score(Y, y_preds)\n",
    "print('Accuracy: ', accuracy )\n",
    "print('Precision: ', precision )"
   ]
  },
  {
   "cell_type": "code",
   "execution_count": null,
   "id": "f93ddd94",
   "metadata": {},
   "outputs": [],
   "source": [
    "#Model -2 Bidirectional LSTM"
   ]
  },
  {
   "cell_type": "code",
   "execution_count": null,
   "id": "745a0db3",
   "metadata": {},
   "outputs": [],
   "source": [
    "#Bidirectional LSTM (Long short-term memory) is made up of two LSTMs, one accepting input in one direction and the other \n",
    "#in the other direction. "
   ]
  },
  {
   "cell_type": "code",
   "execution_count": 23,
   "id": "f4829442",
   "metadata": {},
   "outputs": [],
   "source": [
    "input_layer = keras.layers.Input(shape=(1,), dtype=tf.string)\n",
    "vec_layer = text_vec(input_layer)\n",
    "embedding_layer_model = embedding_layer(vec_layer)\n",
    "bi_lstm = keras.layers.Bidirectional(keras.layers.LSTM(64, activation='tanh', return_sequences=True))(embedding_layer_model)\n",
    "lstm = keras.layers.Bidirectional(keras.layers.LSTM(64))(bi_lstm)\n",
    "flatten = keras.layers.Flatten()(lstm)\n",
    "dropout = keras.layers.Dropout(.1)(flatten)\n",
    "x = keras.layers.Dense(32, activation='relu')(dropout)\n",
    "output_layer = keras.layers.Dense(1, activation='sigmoid')(x)\n",
    "model_2 = keras.Model(input_layer, output_layer)"
   ]
  },
  {
   "cell_type": "code",
   "execution_count": 24,
   "id": "eb81b78a",
   "metadata": {},
   "outputs": [],
   "source": [
    "model_2.compile(optimizer=keras.optimizers.Adam(), loss=keras.losses.BinaryCrossentropy(), metrics=['accuracy'])"
   ]
  },
  {
   "cell_type": "code",
   "execution_count": 25,
   "id": "a2357d7f",
   "metadata": {},
   "outputs": [
    {
     "name": "stdout",
     "output_type": "stream",
     "text": [
      "Model: \"model_1\"\n",
      "_________________________________________________________________\n",
      " Layer (type)                Output Shape              Param #   \n",
      "=================================================================\n",
      " input_2 (InputLayer)        [(None, 1)]               0         \n",
      "                                                                 \n",
      " text_vectorization (TextVe  (None, 15)                0         \n",
      " ctorization)                                                    \n",
      "                                                                 \n",
      " embedding (Embedding)       (None, 15, 128)           1994880   \n",
      "                                                                 \n",
      " bidirectional (Bidirection  (None, 15, 128)           98816     \n",
      " al)                                                             \n",
      "                                                                 \n",
      " bidirectional_1 (Bidirecti  (None, 128)               98816     \n",
      " onal)                                                           \n",
      "                                                                 \n",
      " flatten_1 (Flatten)         (None, 128)               0         \n",
      "                                                                 \n",
      " dropout (Dropout)           (None, 128)               0         \n",
      "                                                                 \n",
      " dense_2 (Dense)             (None, 32)                4128      \n",
      "                                                                 \n",
      " dense_3 (Dense)             (None, 1)                 33        \n",
      "                                                                 \n",
      "=================================================================\n",
      "Total params: 2196673 (8.38 MB)\n",
      "Trainable params: 2196673 (8.38 MB)\n",
      "Non-trainable params: 0 (0.00 Byte)\n",
      "_________________________________________________________________\n"
     ]
    }
   ],
   "source": [
    "model_2.summary()"
   ]
  },
  {
   "cell_type": "code",
   "execution_count": 26,
   "id": "4ff57368",
   "metadata": {},
   "outputs": [
    {
     "name": "stdout",
     "output_type": "stream",
     "text": [
      "Epoch 1/5\n",
      "140/140 [==============================] - 15s 64ms/step - loss: 0.0591 - accuracy: 0.9825 - val_loss: 0.1210 - val_accuracy: 0.9785\n",
      "Epoch 2/5\n",
      "140/140 [==============================] - 8s 55ms/step - loss: 0.0046 - accuracy: 0.9991 - val_loss: 0.1156 - val_accuracy: 0.9785\n",
      "Epoch 3/5\n",
      "140/140 [==============================] - 7s 53ms/step - loss: 0.0021 - accuracy: 0.9996 - val_loss: 0.1187 - val_accuracy: 0.9794\n",
      "Epoch 4/5\n",
      "140/140 [==============================] - 9s 63ms/step - loss: 3.7187e-05 - accuracy: 1.0000 - val_loss: 0.1255 - val_accuracy: 0.9803\n",
      "Epoch 5/5\n",
      "140/140 [==============================] - 9s 63ms/step - loss: 2.0526e-05 - accuracy: 1.0000 - val_loss: 0.1311 - val_accuracy: 0.9803\n"
     ]
    }
   ],
   "source": [
    "history_2 = model_2.fit(X_train, y_train, epochs=5, validation_data=(X_test, y_test), validation_steps=int(0.2*len(X_test)))"
   ]
  },
  {
   "cell_type": "code",
   "execution_count": 27,
   "id": "839cfe95",
   "metadata": {},
   "outputs": [
    {
     "data": {
      "text/plain": [
       "<AxesSubplot:>"
      ]
     },
     "execution_count": 27,
     "metadata": {},
     "output_type": "execute_result"
    },
    {
     "data": {
      "image/png": "[encoded data removed]",
      "text/plain": [
       "<Figure size 640x480 with 1 Axes>"
      ]
     },
     "metadata": {},
     "output_type": "display_data"
    }
   ],
   "source": [
    "pd.DataFrame(history_2.history).plot()"
   ]
  },
  {
   "cell_type": "code",
   "execution_count": 28,
   "id": "4b6664c0",
   "metadata": {},
   "outputs": [
    {
     "name": "stdout",
     "output_type": "stream",
     "text": [
      "175/175 [==============================] - 3s 7ms/step\n",
      "Accuracy:  0.9960516870064609\n",
      "Precision:  0.9986244841815681\n"
     ]
    }
   ],
   "source": [
    "y_preds = np.round(model_2.predict(X))\n",
    "accuracy = accuracy_score(Y, y_preds)\n",
    "precision = precision_score(Y, y_preds)\n",
    "print('Accuracy: ', accuracy )\n",
    "print('Precision: ', precision )"
   ]
  },
  {
   "cell_type": "code",
   "execution_count": 29,
   "id": "40ac5157",
   "metadata": {},
   "outputs": [],
   "source": [
    "#Model -3 Transfer Learning with USE Encoder"
   ]
  },
  {
   "cell_type": "code",
   "execution_count": 30,
   "id": "9f2ab77c",
   "metadata": {},
   "outputs": [],
   "source": [
    "#Transfer learning is a machine learning approach in which a model generated for one job is utilized as the foundation for\n",
    "# a model on a different task.\n",
    "#The Universal Sentence Encoder converts text into high-dimensional vectors that may be used for text categorization, \n",
    "# semantic similarity, and other natural language applications."
   ]
  },
  {
   "cell_type": "code",
   "execution_count": 31,
   "id": "fe9e329e",
   "metadata": {},
   "outputs": [],
   "source": [
    "import tensorflow_hub as hub\n",
    "model_3 = keras.Sequential()\n",
    " \n",
    "#Universal Sentence Encoder layer from tfhub\n",
    "use_layer = hub.KerasLayer(\"https://tfhub.dev/google/universal-sentence-encoder/4\",\n",
    "                           trainable=False,\n",
    "                           input_shape=[],\n",
    "                           dtype=tf.string,\n",
    "                           name='USE')\n",
    "model_3.add(use_layer)\n",
    "model_3.add(keras.layers.Dropout(0.2))\n",
    "model_3.add(keras.layers.Dense(64, activation=keras.activations.relu))\n",
    "model_3.add(keras.layers.Dense(1, activation=keras.activations.sigmoid))"
   ]
  },
  {
   "cell_type": "code",
   "execution_count": 32,
   "id": "0012ea37",
   "metadata": {},
   "outputs": [],
   "source": [
    "model_3.compile(optimizer=keras.optimizers.Adam(), loss=keras.losses.BinaryCrossentropy(), metrics=['accuracy'])"
   ]
  },
  {
   "cell_type": "code",
   "execution_count": 33,
   "id": "4deca0e4",
   "metadata": {},
   "outputs": [
    {
     "name": "stdout",
     "output_type": "stream",
     "text": [
      "Model: \"sequential\"\n",
      "_________________________________________________________________\n",
      " Layer (type)                Output Shape              Param #   \n",
      "=================================================================\n",
      " USE (KerasLayer)            (None, 512)               256797824 \n",
      "                                                                 \n",
      " dropout_1 (Dropout)         (None, 512)               0         \n",
      "                                                                 \n",
      " dense_4 (Dense)             (None, 64)                32832     \n",
      "                                                                 \n",
      " dense_5 (Dense)             (None, 1)                 65        \n",
      "                                                                 \n",
      "=================================================================\n",
      "Total params: 256830721 (979.73 MB)\n",
      "Trainable params: 32897 (128.50 KB)\n",
      "Non-trainable params: 256797824 (979.61 MB)\n",
      "_________________________________________________________________\n"
     ]
    }
   ],
   "source": [
    "model_3.summary()"
   ]
  },
  {
   "cell_type": "code",
   "execution_count": 34,
   "id": "45dc1059",
   "metadata": {},
   "outputs": [
    {
     "name": "stdout",
     "output_type": "stream",
     "text": [
      "Epoch 1/5\n",
      "140/140 [==============================] - 5s 19ms/step - loss: 0.2988 - accuracy: 0.9123 - val_loss: 0.1153 - val_accuracy: 0.9695\n",
      "Epoch 2/5\n",
      "140/140 [==============================] - 2s 16ms/step - loss: 0.0808 - accuracy: 0.9791 - val_loss: 0.0697 - val_accuracy: 0.9767\n",
      "Epoch 3/5\n",
      "140/140 [==============================] - 2s 17ms/step - loss: 0.0575 - accuracy: 0.9816 - val_loss: 0.0582 - val_accuracy: 0.9794\n",
      "Epoch 4/5\n",
      "140/140 [==============================] - 2s 18ms/step - loss: 0.0463 - accuracy: 0.9854 - val_loss: 0.0569 - val_accuracy: 0.9803\n",
      "Epoch 5/5\n",
      "140/140 [==============================] - 2s 17ms/step - loss: 0.0427 - accuracy: 0.9881 - val_loss: 0.0529 - val_accuracy: 0.9821\n"
     ]
    }
   ],
   "source": [
    "history = model_3.fit(X_train, y_train, epochs=5, validation_data=(X_test, y_test), validation_steps=int(0.2*len(X_test)))"
   ]
  },
  {
   "cell_type": "code",
   "execution_count": 35,
   "id": "8305a2c0",
   "metadata": {},
   "outputs": [
    {
     "name": "stdout",
     "output_type": "stream",
     "text": [
      "175/175 [==============================] - 2s 9ms/step\n",
      "Accuracy:  0.9883345297918162\n",
      "Precision:  0.9671232876712329\n"
     ]
    }
   ],
   "source": [
    "y_preds = np.round(model_3.predict(X))\n",
    "accuracy = accuracy_score(Y, y_preds)\n",
    "precision = precision_score(Y, y_preds)\n",
    "print('Accuracy: ', accuracy )\n",
    "print('Precision: ', precision )"
   ]
  },
  {
   "cell_type": "code",
   "execution_count": null,
   "id": "139cc5b6",
   "metadata": {},
   "outputs": [],
   "source": [
    "#All 3 models deliver good results. All of them have greater than 98% accuracy."
   ]
  }
 ],
 "metadata": {
  "kernelspec": {
   "display_name": "Python 3 (ipykernel)",
   "language": "python",
   "name": "python3"
  },
  "language_info": {
   "codemirror_mode": {
    "name": "ipython",
    "version": 3
   },
   "file_extension": ".py",
   "mimetype": "text/x-python",
   "name": "python",
   "nbconvert_exporter": "python",
   "pygments_lexer": "ipython3",
   "version": "3.9.13"
  }
 },
 "nbformat": 4,
 "nbformat_minor": 5
}
